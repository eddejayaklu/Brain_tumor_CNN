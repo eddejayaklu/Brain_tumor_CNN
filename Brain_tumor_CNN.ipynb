{
 "cells": [
  {
   "cell_type": "code",
   "execution_count": 61,
   "id": "fb779b95",
   "metadata": {},
   "outputs": [],
   "source": [
    "import os\n",
    "import pandas as pd\n",
    "import numpy  as np"
   ]
  },
  {
   "cell_type": "code",
   "execution_count": 26,
   "id": "c67b4711",
   "metadata": {},
   "outputs": [],
   "source": [
    "data=r\"C:\\Users\\VAMSI\\OneDrive\\Desktop\\brain_tumor_dataset\"\n",
    "no_tumor=r\"C:\\Users\\VAMSI\\OneDrive\\Desktop\\brain_tumor_dataset\\no\"\n",
    "yes_tumor=r\"C:\\Users\\VAMSI\\OneDrive\\Desktop\\brain_tumor_dataset\\yes\""
   ]
  },
  {
   "cell_type": "code",
   "execution_count": 27,
   "id": "7c65fba0",
   "metadata": {},
   "outputs": [],
   "source": [
    "dirlist=[no_tumor,yes_tumor]\n",
    "classes=['No','Yes']\n",
    "filepaths=[]\n",
    "labels=[]"
   ]
  },
  {
   "cell_type": "code",
   "execution_count": 28,
   "id": "9d8da5e4",
   "metadata": {},
   "outputs": [],
   "source": [
    "for i,j in zip(dirlist,classes):\n",
    "    filelists=os.listdir(i)\n",
    "    for f in filelists:\n",
    "        filepaths.append(os.path.join(i,f))\n",
    "        labels.append(j)"
   ]
  },
  {
   "cell_type": "code",
   "execution_count": 29,
   "id": "5e25813a",
   "metadata": {},
   "outputs": [],
   "source": [
    "files=pd.Series(filepaths,name=\"filepaths\")\n",
    "labels_s=pd.Series(labels,name=\"labels\")\n",
    "df=pd.concat([files,labels_s],axis=1)"
   ]
  },
  {
   "cell_type": "code",
   "execution_count": 30,
   "id": "be6cbb16",
   "metadata": {},
   "outputs": [
    {
     "data": {
      "text/html": [
       "<div>\n",
       "<style scoped>\n",
       "    .dataframe tbody tr th:only-of-type {\n",
       "        vertical-align: middle;\n",
       "    }\n",
       "\n",
       "    .dataframe tbody tr th {\n",
       "        vertical-align: top;\n",
       "    }\n",
       "\n",
       "    .dataframe thead th {\n",
       "        text-align: right;\n",
       "    }\n",
       "</style>\n",
       "<table border=\"1\" class=\"dataframe\">\n",
       "  <thead>\n",
       "    <tr style=\"text-align: right;\">\n",
       "      <th></th>\n",
       "      <th>filepaths</th>\n",
       "      <th>labels</th>\n",
       "    </tr>\n",
       "  </thead>\n",
       "  <tbody>\n",
       "    <tr>\n",
       "      <th>0</th>\n",
       "      <td>C:\\Users\\VAMSI\\OneDrive\\Desktop\\brain_tumor_da...</td>\n",
       "      <td>No</td>\n",
       "    </tr>\n",
       "    <tr>\n",
       "      <th>1</th>\n",
       "      <td>C:\\Users\\VAMSI\\OneDrive\\Desktop\\brain_tumor_da...</td>\n",
       "      <td>No</td>\n",
       "    </tr>\n",
       "    <tr>\n",
       "      <th>2</th>\n",
       "      <td>C:\\Users\\VAMSI\\OneDrive\\Desktop\\brain_tumor_da...</td>\n",
       "      <td>No</td>\n",
       "    </tr>\n",
       "    <tr>\n",
       "      <th>3</th>\n",
       "      <td>C:\\Users\\VAMSI\\OneDrive\\Desktop\\brain_tumor_da...</td>\n",
       "      <td>No</td>\n",
       "    </tr>\n",
       "    <tr>\n",
       "      <th>4</th>\n",
       "      <td>C:\\Users\\VAMSI\\OneDrive\\Desktop\\brain_tumor_da...</td>\n",
       "      <td>No</td>\n",
       "    </tr>\n",
       "    <tr>\n",
       "      <th>...</th>\n",
       "      <td>...</td>\n",
       "      <td>...</td>\n",
       "    </tr>\n",
       "    <tr>\n",
       "      <th>248</th>\n",
       "      <td>C:\\Users\\VAMSI\\OneDrive\\Desktop\\brain_tumor_da...</td>\n",
       "      <td>Yes</td>\n",
       "    </tr>\n",
       "    <tr>\n",
       "      <th>249</th>\n",
       "      <td>C:\\Users\\VAMSI\\OneDrive\\Desktop\\brain_tumor_da...</td>\n",
       "      <td>Yes</td>\n",
       "    </tr>\n",
       "    <tr>\n",
       "      <th>250</th>\n",
       "      <td>C:\\Users\\VAMSI\\OneDrive\\Desktop\\brain_tumor_da...</td>\n",
       "      <td>Yes</td>\n",
       "    </tr>\n",
       "    <tr>\n",
       "      <th>251</th>\n",
       "      <td>C:\\Users\\VAMSI\\OneDrive\\Desktop\\brain_tumor_da...</td>\n",
       "      <td>Yes</td>\n",
       "    </tr>\n",
       "    <tr>\n",
       "      <th>252</th>\n",
       "      <td>C:\\Users\\VAMSI\\OneDrive\\Desktop\\brain_tumor_da...</td>\n",
       "      <td>Yes</td>\n",
       "    </tr>\n",
       "  </tbody>\n",
       "</table>\n",
       "<p>253 rows × 2 columns</p>\n",
       "</div>"
      ],
      "text/plain": [
       "                                             filepaths labels\n",
       "0    C:\\Users\\VAMSI\\OneDrive\\Desktop\\brain_tumor_da...     No\n",
       "1    C:\\Users\\VAMSI\\OneDrive\\Desktop\\brain_tumor_da...     No\n",
       "2    C:\\Users\\VAMSI\\OneDrive\\Desktop\\brain_tumor_da...     No\n",
       "3    C:\\Users\\VAMSI\\OneDrive\\Desktop\\brain_tumor_da...     No\n",
       "4    C:\\Users\\VAMSI\\OneDrive\\Desktop\\brain_tumor_da...     No\n",
       "..                                                 ...    ...\n",
       "248  C:\\Users\\VAMSI\\OneDrive\\Desktop\\brain_tumor_da...    Yes\n",
       "249  C:\\Users\\VAMSI\\OneDrive\\Desktop\\brain_tumor_da...    Yes\n",
       "250  C:\\Users\\VAMSI\\OneDrive\\Desktop\\brain_tumor_da...    Yes\n",
       "251  C:\\Users\\VAMSI\\OneDrive\\Desktop\\brain_tumor_da...    Yes\n",
       "252  C:\\Users\\VAMSI\\OneDrive\\Desktop\\brain_tumor_da...    Yes\n",
       "\n",
       "[253 rows x 2 columns]"
      ]
     },
     "execution_count": 30,
     "metadata": {},
     "output_type": "execute_result"
    }
   ],
   "source": [
    "df"
   ]
  },
  {
   "cell_type": "code",
   "execution_count": 32,
   "id": "656b8016",
   "metadata": {},
   "outputs": [],
   "source": [
    "df = df.sample(frac = 1)"
   ]
  },
  {
   "cell_type": "code",
   "execution_count": 33,
   "id": "74002921",
   "metadata": {},
   "outputs": [],
   "source": [
    "df=df.reset_index()"
   ]
  },
  {
   "cell_type": "code",
   "execution_count": 34,
   "id": "3928d7f8",
   "metadata": {},
   "outputs": [],
   "source": [
    "df.drop('index',inplace=True,axis=1)"
   ]
  },
  {
   "cell_type": "code",
   "execution_count": 35,
   "id": "068c438f",
   "metadata": {},
   "outputs": [],
   "source": [
    "df['labels']=pd.get_dummies(df['labels'])"
   ]
  },
  {
   "cell_type": "code",
   "execution_count": 36,
   "id": "398f6f03",
   "metadata": {},
   "outputs": [],
   "source": [
    "from PIL import Image"
   ]
  },
  {
   "cell_type": "code",
   "execution_count": 40,
   "id": "f1ecfc52",
   "metadata": {},
   "outputs": [],
   "source": [
    "img=Image.open(df['filepaths'][1])"
   ]
  },
  {
   "cell_type": "code",
   "execution_count": 41,
   "id": "4325db17",
   "metadata": {},
   "outputs": [],
   "source": [
    "img.show()"
   ]
  },
  {
   "cell_type": "code",
   "execution_count": 51,
   "id": "498a6b68",
   "metadata": {},
   "outputs": [
    {
     "name": "stdout",
     "output_type": "stream",
     "text": [
      "354\n",
      "386\n"
     ]
    }
   ],
   "source": [
    "widths=[]\n",
    "heights=[]\n",
    "for idx,rows in df.iterrows():\n",
    "    path=rows['filepaths']\n",
    "    img=Image.open(path)\n",
    "    width,height=img.size\n",
    "    widths.append(width)\n",
    "    heights.append(height)\n",
    "avg_width=int(sum(widths)/len(widths))\n",
    "avg_height=int(sum(heights)/len(heights))\n",
    "    \n",
    "print(avg_width)\n",
    "print(avg_height)\n",
    "    "
   ]
  },
  {
   "cell_type": "code",
   "execution_count": 54,
   "id": "b62c1754",
   "metadata": {},
   "outputs": [],
   "source": [
    "from keras.preprocessing.image import load_img\n",
    "def load_resize_color_image(path):\n",
    "    # load image and resize to 300x300\n",
    "    image = load_img(path,target_size=(300,300))\n",
    "    return image"
   ]
  },
  {
   "cell_type": "code",
   "execution_count": 55,
   "id": "c87a51c8",
   "metadata": {},
   "outputs": [],
   "source": [
    "image_list=[]\n",
    "cancer_list=[]\n",
    "from keras.preprocessing.image import img_to_array\n",
    "for idx,rows in df.iterrows():\n",
    "    path=rows['filepaths']\n",
    "    cancer=rows['labels']\n",
    "    image= load_resize_color_image(path)\n",
    "    image_array = img_to_array(image)   \n",
    "    image_list.append(image_array)\n",
    "    cancer_list.append(cancer)"
   ]
  },
  {
   "cell_type": "code",
   "execution_count": 56,
   "id": "6e6cee54",
   "metadata": {},
   "outputs": [],
   "source": [
    "from sklearn.utils import shuffle\n",
    "image_list, cancer_list = shuffle(image_list, cancer_list)"
   ]
  },
  {
   "cell_type": "code",
   "execution_count": 62,
   "id": "afefd63a",
   "metadata": {},
   "outputs": [],
   "source": [
    "x=np.array(image_list)\n",
    "y=np.array(cancer_list)"
   ]
  },
  {
   "cell_type": "code",
   "execution_count": 63,
   "id": "ce56cf50",
   "metadata": {},
   "outputs": [
    {
     "data": {
      "text/plain": [
       "(253, 300, 300, 3)"
      ]
     },
     "execution_count": 63,
     "metadata": {},
     "output_type": "execute_result"
    }
   ],
   "source": [
    "x.shape"
   ]
  },
  {
   "cell_type": "code",
   "execution_count": 68,
   "id": "9373731f",
   "metadata": {},
   "outputs": [
    {
     "name": "stdout",
     "output_type": "stream",
     "text": [
      "WARNING:tensorflow:From C:\\Users\\VAMSI\\anaconda3\\lib\\site-packages\\tensorflow\\python\\compat\\v2_compat.py:101: disable_resource_variables (from tensorflow.python.ops.variable_scope) is deprecated and will be removed in a future version.\n",
      "Instructions for updating:\n",
      "non-resource variables are not supported in the long term\n"
     ]
    }
   ],
   "source": [
    "import tensorflow as tf\n",
    "import tensorflow.compat.v1 as tf\n",
    "tf.disable_v2_behavior()\n",
    "import matplotlib.pyplot as plt"
   ]
  },
  {
   "cell_type": "code",
   "execution_count": 69,
   "id": "bc33a6e1",
   "metadata": {},
   "outputs": [],
   "source": [
    "from keras.layers.convolutional import Conv2D\n",
    "from keras.layers import MaxPooling2D\n",
    "from keras.layers import  Flatten\n",
    "from keras.layers import Input"
   ]
  },
  {
   "cell_type": "code",
   "execution_count": 65,
   "id": "1e3ff5c0",
   "metadata": {},
   "outputs": [],
   "source": [
    "from sklearn.model_selection import train_test_split\n",
    "\n",
    "X_train, X_test, y_train, y_test = train_test_split(x, y, train_size=0.8, random_state=0)"
   ]
  },
  {
   "cell_type": "code",
   "execution_count": 71,
   "id": "e9268629",
   "metadata": {},
   "outputs": [],
   "source": [
    "X_train = X_train/255\n",
    "X_test = X_test/255"
   ]
  },
  {
   "cell_type": "code",
   "execution_count": 66,
   "id": "82718e53",
   "metadata": {},
   "outputs": [],
   "source": [
    "epochs=10\n",
    "batch_size=15\n",
    "input_size=(300, 300, 3)"
   ]
  },
  {
   "cell_type": "code",
   "execution_count": 70,
   "id": "b318a32b",
   "metadata": {},
   "outputs": [],
   "source": [
    "from keras.models import Sequential\n",
    "from keras.layers import Dense"
   ]
  },
  {
   "cell_type": "code",
   "execution_count": 76,
   "id": "e4a51e36",
   "metadata": {},
   "outputs": [],
   "source": [
    "model=Sequential()\n",
    "model.add(Input(shape=(300,300,3)))\n",
    "model.add(Conv2D(64,kernel_size=(3,3),activation='relu'))\n",
    "model.add(MaxPooling2D(pool_size=(2,2)))\n",
    "model.add(Conv2D(64,kernel_size=(3,3),activation='relu'))\n",
    "model.add(MaxPooling2D(pool_size=(2,2)))\n",
    "model.add(Flatten())\n",
    "model.add(Dense(128, activation='relu'))\n",
    "model.add(Dense(64, activation='relu'))\n",
    "model.add(Dense(1, activation='sigmoid'))"
   ]
  },
  {
   "cell_type": "code",
   "execution_count": 77,
   "id": "3ad75406",
   "metadata": {},
   "outputs": [],
   "source": [
    "model.compile(loss=\"binary_crossentropy\",\n",
    "              optimizer='Adam',\n",
    "              metrics=['accuracy'])"
   ]
  },
  {
   "cell_type": "code",
   "execution_count": 78,
   "id": "a5d57fc3",
   "metadata": {},
   "outputs": [
    {
     "name": "stdout",
     "output_type": "stream",
     "text": [
      "Train on 202 samples, validate on 51 samples\n",
      "Epoch 1/10\n",
      "202/202 [==============================] - ETA: 0s - loss: 1.5951 - acc: 0.6337"
     ]
    },
    {
     "name": "stderr",
     "output_type": "stream",
     "text": [
      "C:\\Users\\VAMSI\\anaconda3\\lib\\site-packages\\keras\\engine\\training.py:2470: UserWarning: `Model.state_updates` will be removed in a future version. This property should not be used in TensorFlow 2.0, as `updates` are applied automatically.\n",
      "  warnings.warn('`Model.state_updates` will be removed in a future version. '\n"
     ]
    },
    {
     "name": "stdout",
     "output_type": "stream",
     "text": [
      "202/202 [==============================] - 33s 164ms/sample - loss: 1.5951 - acc: 0.6337 - val_loss: 0.5501 - val_acc: 0.7451\n",
      "Epoch 2/10\n",
      "202/202 [==============================] - 30s 149ms/sample - loss: 0.5097 - acc: 0.8020 - val_loss: 0.5199 - val_acc: 0.7843\n",
      "Epoch 3/10\n",
      "202/202 [==============================] - 30s 149ms/sample - loss: 0.3443 - acc: 0.8663 - val_loss: 0.4534 - val_acc: 0.8431\n",
      "Epoch 4/10\n",
      "202/202 [==============================] - 30s 150ms/sample - loss: 0.1194 - acc: 0.9752 - val_loss: 0.8987 - val_acc: 0.6667\n",
      "Epoch 5/10\n",
      "202/202 [==============================] - 30s 150ms/sample - loss: 0.0916 - acc: 0.9505 - val_loss: 0.6545 - val_acc: 0.8627\n",
      "Epoch 6/10\n",
      "202/202 [==============================] - 30s 150ms/sample - loss: 0.0203 - acc: 0.9950 - val_loss: 1.2702 - val_acc: 0.8431\n",
      "Epoch 7/10\n",
      "202/202 [==============================] - 31s 151ms/sample - loss: 0.0090 - acc: 1.0000 - val_loss: 0.9246 - val_acc: 0.8431\n",
      "Epoch 8/10\n",
      "202/202 [==============================] - 30s 149ms/sample - loss: 0.0189 - acc: 0.9950 - val_loss: 0.9045 - val_acc: 0.8627\n",
      "Epoch 9/10\n",
      "202/202 [==============================] - 30s 150ms/sample - loss: 0.0075 - acc: 1.0000 - val_loss: 0.7456 - val_acc: 0.8627\n",
      "Epoch 10/10\n",
      "202/202 [==============================] - 31s 154ms/sample - loss: 0.0023 - acc: 1.0000 - val_loss: 1.0512 - val_acc: 0.8824\n"
     ]
    }
   ],
   "source": [
    "hist = model.fit(X_train, y_train,\n",
    "          batch_size=batch_size,\n",
    "          epochs=epochs,\n",
    "          verbose=1,\n",
    "          validation_data=(X_test, y_test))"
   ]
  },
  {
   "cell_type": "code",
   "execution_count": 79,
   "id": "b51640da",
   "metadata": {},
   "outputs": [
    {
     "name": "stdout",
     "output_type": "stream",
     "text": [
      "Test loss: 1.0511988448161704\n",
      "Test accuracy: 0.88235295\n"
     ]
    }
   ],
   "source": [
    "score = model.evaluate(X_test, y_test, verbose=0)\n",
    "print('Test loss:', score[0])\n",
    "print('Test accuracy:', score[1])"
   ]
  }
 ],
 "metadata": {
  "kernelspec": {
   "display_name": "Python 3",
   "language": "python",
   "name": "python3"
  },
  "language_info": {
   "codemirror_mode": {
    "name": "ipython",
    "version": 3
   },
   "file_extension": ".py",
   "mimetype": "text/x-python",
   "name": "python",
   "nbconvert_exporter": "python",
   "pygments_lexer": "ipython3",
   "version": "3.8.8"
  }
 },
 "nbformat": 4,
 "nbformat_minor": 5
}
